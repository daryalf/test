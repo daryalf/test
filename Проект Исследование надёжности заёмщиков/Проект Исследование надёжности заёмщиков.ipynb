{
 "cells": [
  {
   "cell_type": "markdown",
   "id": "00df5211",
   "metadata": {},
   "source": [
    "# Исследование надежности заемщиков."
   ]
  },
  {
   "cell_type": "markdown",
   "id": "d5e3b238",
   "metadata": {},
   "source": [
    "### Шаг 1. Обзор данных"
   ]
  },
  {
   "cell_type": "code",
   "execution_count": 1,
   "id": "8da77e10",
   "metadata": {},
   "outputs": [
    {
     "name": "stdout",
     "output_type": "stream",
     "text": [
      "<class 'pandas.core.frame.DataFrame'>\n",
      "RangeIndex: 21525 entries, 0 to 21524\n",
      "Data columns (total 12 columns):\n",
      " #   Column            Non-Null Count  Dtype  \n",
      "---  ------            --------------  -----  \n",
      " 0   children          21525 non-null  int64  \n",
      " 1   days_employed     19351 non-null  float64\n",
      " 2   dob_years         21525 non-null  int64  \n",
      " 3   education         21525 non-null  object \n",
      " 4   education_id      21525 non-null  int64  \n",
      " 5   family_status     21525 non-null  object \n",
      " 6   family_status_id  21525 non-null  int64  \n",
      " 7   gender            21525 non-null  object \n",
      " 8   income_type       21525 non-null  object \n",
      " 9   debt              21525 non-null  int64  \n",
      " 10  total_income      19351 non-null  float64\n",
      " 11  purpose           21525 non-null  object \n",
      "dtypes: float64(2), int64(5), object(5)\n",
      "memory usage: 2.0+ MB\n"
     ]
    },
    {
     "data": {
      "text/html": [
       "<div>\n",
       "<style scoped>\n",
       "    .dataframe tbody tr th:only-of-type {\n",
       "        vertical-align: middle;\n",
       "    }\n",
       "\n",
       "    .dataframe tbody tr th {\n",
       "        vertical-align: top;\n",
       "    }\n",
       "\n",
       "    .dataframe thead th {\n",
       "        text-align: right;\n",
       "    }\n",
       "</style>\n",
       "<table border=\"1\" class=\"dataframe\">\n",
       "  <thead>\n",
       "    <tr style=\"text-align: right;\">\n",
       "      <th></th>\n",
       "      <th>children</th>\n",
       "      <th>days_employed</th>\n",
       "      <th>dob_years</th>\n",
       "      <th>education_id</th>\n",
       "      <th>family_status_id</th>\n",
       "      <th>debt</th>\n",
       "      <th>total_income</th>\n",
       "    </tr>\n",
       "  </thead>\n",
       "  <tbody>\n",
       "    <tr>\n",
       "      <th>count</th>\n",
       "      <td>21525.000000</td>\n",
       "      <td>19351.000000</td>\n",
       "      <td>21525.000000</td>\n",
       "      <td>21525.000000</td>\n",
       "      <td>21525.000000</td>\n",
       "      <td>21525.000000</td>\n",
       "      <td>1.935100e+04</td>\n",
       "    </tr>\n",
       "    <tr>\n",
       "      <th>mean</th>\n",
       "      <td>0.538908</td>\n",
       "      <td>63046.497661</td>\n",
       "      <td>43.293380</td>\n",
       "      <td>0.817236</td>\n",
       "      <td>0.972544</td>\n",
       "      <td>0.080883</td>\n",
       "      <td>1.674223e+05</td>\n",
       "    </tr>\n",
       "    <tr>\n",
       "      <th>std</th>\n",
       "      <td>1.381587</td>\n",
       "      <td>140827.311974</td>\n",
       "      <td>12.574584</td>\n",
       "      <td>0.548138</td>\n",
       "      <td>1.420324</td>\n",
       "      <td>0.272661</td>\n",
       "      <td>1.029716e+05</td>\n",
       "    </tr>\n",
       "    <tr>\n",
       "      <th>min</th>\n",
       "      <td>-1.000000</td>\n",
       "      <td>-18388.949901</td>\n",
       "      <td>0.000000</td>\n",
       "      <td>0.000000</td>\n",
       "      <td>0.000000</td>\n",
       "      <td>0.000000</td>\n",
       "      <td>2.066726e+04</td>\n",
       "    </tr>\n",
       "    <tr>\n",
       "      <th>25%</th>\n",
       "      <td>0.000000</td>\n",
       "      <td>-2747.423625</td>\n",
       "      <td>33.000000</td>\n",
       "      <td>1.000000</td>\n",
       "      <td>0.000000</td>\n",
       "      <td>0.000000</td>\n",
       "      <td>1.030532e+05</td>\n",
       "    </tr>\n",
       "    <tr>\n",
       "      <th>50%</th>\n",
       "      <td>0.000000</td>\n",
       "      <td>-1203.369529</td>\n",
       "      <td>42.000000</td>\n",
       "      <td>1.000000</td>\n",
       "      <td>0.000000</td>\n",
       "      <td>0.000000</td>\n",
       "      <td>1.450179e+05</td>\n",
       "    </tr>\n",
       "    <tr>\n",
       "      <th>75%</th>\n",
       "      <td>1.000000</td>\n",
       "      <td>-291.095954</td>\n",
       "      <td>53.000000</td>\n",
       "      <td>1.000000</td>\n",
       "      <td>1.000000</td>\n",
       "      <td>0.000000</td>\n",
       "      <td>2.034351e+05</td>\n",
       "    </tr>\n",
       "    <tr>\n",
       "      <th>max</th>\n",
       "      <td>20.000000</td>\n",
       "      <td>401755.400475</td>\n",
       "      <td>75.000000</td>\n",
       "      <td>4.000000</td>\n",
       "      <td>4.000000</td>\n",
       "      <td>1.000000</td>\n",
       "      <td>2.265604e+06</td>\n",
       "    </tr>\n",
       "  </tbody>\n",
       "</table>\n",
       "</div>"
      ],
      "text/plain": [
       "           children  days_employed     dob_years  education_id  \\\n",
       "count  21525.000000   19351.000000  21525.000000  21525.000000   \n",
       "mean       0.538908   63046.497661     43.293380      0.817236   \n",
       "std        1.381587  140827.311974     12.574584      0.548138   \n",
       "min       -1.000000  -18388.949901      0.000000      0.000000   \n",
       "25%        0.000000   -2747.423625     33.000000      1.000000   \n",
       "50%        0.000000   -1203.369529     42.000000      1.000000   \n",
       "75%        1.000000    -291.095954     53.000000      1.000000   \n",
       "max       20.000000  401755.400475     75.000000      4.000000   \n",
       "\n",
       "       family_status_id          debt  total_income  \n",
       "count      21525.000000  21525.000000  1.935100e+04  \n",
       "mean           0.972544      0.080883  1.674223e+05  \n",
       "std            1.420324      0.272661  1.029716e+05  \n",
       "min            0.000000      0.000000  2.066726e+04  \n",
       "25%            0.000000      0.000000  1.030532e+05  \n",
       "50%            0.000000      0.000000  1.450179e+05  \n",
       "75%            1.000000      0.000000  2.034351e+05  \n",
       "max            4.000000      1.000000  2.265604e+06  "
      ]
     },
     "execution_count": 1,
     "metadata": {},
     "output_type": "execute_result"
    }
   ],
   "source": [
    "import pandas as pd\n",
    "data = pd.read_csv('/datasets/data.csv')\n",
    "data.info()\n",
    "data.describe()"
   ]
  },
  {
   "cell_type": "markdown",
   "id": "3d3107ef",
   "metadata": {},
   "source": [
    "По столбцу 'children' минимальное значение -1\n",
    "По столбцу 'days_employed' выявлены отрицательные значения (для минимума) и  максимум 401755.400475 дней (более 1000 лет в годах)"
   ]
  },
  {
   "cell_type": "markdown",
   "id": "7e8fdfb0",
   "metadata": {},
   "source": [
    "### Шаг 2.1 Заполнение пропусков"
   ]
  },
  {
   "cell_type": "code",
   "execution_count": 2,
   "id": "2b0b5086",
   "metadata": {},
   "outputs": [
    {
     "name": "stdout",
     "output_type": "stream",
     "text": [
      "<class 'pandas.core.frame.DataFrame'>\n",
      "RangeIndex: 21525 entries, 0 to 21524\n",
      "Data columns (total 12 columns):\n",
      " #   Column            Non-Null Count  Dtype  \n",
      "---  ------            --------------  -----  \n",
      " 0   children          21525 non-null  int64  \n",
      " 1   days_employed     19351 non-null  float64\n",
      " 2   dob_years         21525 non-null  int64  \n",
      " 3   education         21525 non-null  object \n",
      " 4   education_id      21525 non-null  int64  \n",
      " 5   family_status     21525 non-null  object \n",
      " 6   family_status_id  21525 non-null  int64  \n",
      " 7   gender            21525 non-null  object \n",
      " 8   income_type       21525 non-null  object \n",
      " 9   debt              21525 non-null  int64  \n",
      " 10  total_income      19351 non-null  float64\n",
      " 11  purpose           21525 non-null  object \n",
      "dtypes: float64(2), int64(5), object(5)\n",
      "memory usage: 2.0+ MB\n"
     ]
    }
   ],
   "source": [
    "data.info()"
   ]
  },
  {
   "cell_type": "markdown",
   "id": "b918d220",
   "metadata": {},
   "source": [
    "по столбцам days_employed и total_income зафиксированы пустые значения\n",
    "Предполагаю, что там 0, так как отстутствие стажа означает и отсутствие дохода\n",
    "заменним медианными значениями"
   ]
  },
  {
   "cell_type": "code",
   "execution_count": 3,
   "id": "87c9b722",
   "metadata": {},
   "outputs": [
    {
     "data": {
      "text/html": [
       "<div>\n",
       "<style scoped>\n",
       "    .dataframe tbody tr th:only-of-type {\n",
       "        vertical-align: middle;\n",
       "    }\n",
       "\n",
       "    .dataframe tbody tr th {\n",
       "        vertical-align: top;\n",
       "    }\n",
       "\n",
       "    .dataframe thead th {\n",
       "        text-align: right;\n",
       "    }\n",
       "</style>\n",
       "<table border=\"1\" class=\"dataframe\">\n",
       "  <thead>\n",
       "    <tr style=\"text-align: right;\">\n",
       "      <th></th>\n",
       "      <th>children</th>\n",
       "      <th>days_employed</th>\n",
       "      <th>dob_years</th>\n",
       "      <th>education</th>\n",
       "      <th>education_id</th>\n",
       "      <th>family_status</th>\n",
       "      <th>family_status_id</th>\n",
       "      <th>gender</th>\n",
       "      <th>income_type</th>\n",
       "      <th>debt</th>\n",
       "      <th>total_income</th>\n",
       "      <th>purpose</th>\n",
       "    </tr>\n",
       "  </thead>\n",
       "  <tbody>\n",
       "    <tr>\n",
       "      <th>12</th>\n",
       "      <td>0</td>\n",
       "      <td>NaN</td>\n",
       "      <td>65</td>\n",
       "      <td>среднее</td>\n",
       "      <td>1</td>\n",
       "      <td>гражданский брак</td>\n",
       "      <td>1</td>\n",
       "      <td>M</td>\n",
       "      <td>пенсионер</td>\n",
       "      <td>0</td>\n",
       "      <td>NaN</td>\n",
       "      <td>сыграть свадьбу</td>\n",
       "    </tr>\n",
       "    <tr>\n",
       "      <th>26</th>\n",
       "      <td>0</td>\n",
       "      <td>NaN</td>\n",
       "      <td>41</td>\n",
       "      <td>среднее</td>\n",
       "      <td>1</td>\n",
       "      <td>женат / замужем</td>\n",
       "      <td>0</td>\n",
       "      <td>M</td>\n",
       "      <td>госслужащий</td>\n",
       "      <td>0</td>\n",
       "      <td>NaN</td>\n",
       "      <td>образование</td>\n",
       "    </tr>\n",
       "    <tr>\n",
       "      <th>29</th>\n",
       "      <td>0</td>\n",
       "      <td>NaN</td>\n",
       "      <td>63</td>\n",
       "      <td>среднее</td>\n",
       "      <td>1</td>\n",
       "      <td>Не женат / не замужем</td>\n",
       "      <td>4</td>\n",
       "      <td>F</td>\n",
       "      <td>пенсионер</td>\n",
       "      <td>0</td>\n",
       "      <td>NaN</td>\n",
       "      <td>строительство жилой недвижимости</td>\n",
       "    </tr>\n",
       "    <tr>\n",
       "      <th>41</th>\n",
       "      <td>0</td>\n",
       "      <td>NaN</td>\n",
       "      <td>50</td>\n",
       "      <td>среднее</td>\n",
       "      <td>1</td>\n",
       "      <td>женат / замужем</td>\n",
       "      <td>0</td>\n",
       "      <td>F</td>\n",
       "      <td>госслужащий</td>\n",
       "      <td>0</td>\n",
       "      <td>NaN</td>\n",
       "      <td>сделка с подержанным автомобилем</td>\n",
       "    </tr>\n",
       "    <tr>\n",
       "      <th>55</th>\n",
       "      <td>0</td>\n",
       "      <td>NaN</td>\n",
       "      <td>54</td>\n",
       "      <td>среднее</td>\n",
       "      <td>1</td>\n",
       "      <td>гражданский брак</td>\n",
       "      <td>1</td>\n",
       "      <td>F</td>\n",
       "      <td>пенсионер</td>\n",
       "      <td>1</td>\n",
       "      <td>NaN</td>\n",
       "      <td>сыграть свадьбу</td>\n",
       "    </tr>\n",
       "    <tr>\n",
       "      <th>...</th>\n",
       "      <td>...</td>\n",
       "      <td>...</td>\n",
       "      <td>...</td>\n",
       "      <td>...</td>\n",
       "      <td>...</td>\n",
       "      <td>...</td>\n",
       "      <td>...</td>\n",
       "      <td>...</td>\n",
       "      <td>...</td>\n",
       "      <td>...</td>\n",
       "      <td>...</td>\n",
       "      <td>...</td>\n",
       "    </tr>\n",
       "    <tr>\n",
       "      <th>21489</th>\n",
       "      <td>2</td>\n",
       "      <td>NaN</td>\n",
       "      <td>47</td>\n",
       "      <td>Среднее</td>\n",
       "      <td>1</td>\n",
       "      <td>женат / замужем</td>\n",
       "      <td>0</td>\n",
       "      <td>M</td>\n",
       "      <td>компаньон</td>\n",
       "      <td>0</td>\n",
       "      <td>NaN</td>\n",
       "      <td>сделка с автомобилем</td>\n",
       "    </tr>\n",
       "    <tr>\n",
       "      <th>21495</th>\n",
       "      <td>1</td>\n",
       "      <td>NaN</td>\n",
       "      <td>50</td>\n",
       "      <td>среднее</td>\n",
       "      <td>1</td>\n",
       "      <td>гражданский брак</td>\n",
       "      <td>1</td>\n",
       "      <td>F</td>\n",
       "      <td>сотрудник</td>\n",
       "      <td>0</td>\n",
       "      <td>NaN</td>\n",
       "      <td>свадьба</td>\n",
       "    </tr>\n",
       "    <tr>\n",
       "      <th>21497</th>\n",
       "      <td>0</td>\n",
       "      <td>NaN</td>\n",
       "      <td>48</td>\n",
       "      <td>ВЫСШЕЕ</td>\n",
       "      <td>0</td>\n",
       "      <td>женат / замужем</td>\n",
       "      <td>0</td>\n",
       "      <td>F</td>\n",
       "      <td>компаньон</td>\n",
       "      <td>0</td>\n",
       "      <td>NaN</td>\n",
       "      <td>строительство недвижимости</td>\n",
       "    </tr>\n",
       "    <tr>\n",
       "      <th>21502</th>\n",
       "      <td>1</td>\n",
       "      <td>NaN</td>\n",
       "      <td>42</td>\n",
       "      <td>среднее</td>\n",
       "      <td>1</td>\n",
       "      <td>женат / замужем</td>\n",
       "      <td>0</td>\n",
       "      <td>F</td>\n",
       "      <td>сотрудник</td>\n",
       "      <td>0</td>\n",
       "      <td>NaN</td>\n",
       "      <td>строительство жилой недвижимости</td>\n",
       "    </tr>\n",
       "    <tr>\n",
       "      <th>21510</th>\n",
       "      <td>2</td>\n",
       "      <td>NaN</td>\n",
       "      <td>28</td>\n",
       "      <td>среднее</td>\n",
       "      <td>1</td>\n",
       "      <td>женат / замужем</td>\n",
       "      <td>0</td>\n",
       "      <td>F</td>\n",
       "      <td>сотрудник</td>\n",
       "      <td>0</td>\n",
       "      <td>NaN</td>\n",
       "      <td>приобретение автомобиля</td>\n",
       "    </tr>\n",
       "  </tbody>\n",
       "</table>\n",
       "<p>2174 rows × 12 columns</p>\n",
       "</div>"
      ],
      "text/plain": [
       "       children  days_employed  dob_years education  education_id  \\\n",
       "12            0            NaN         65   среднее             1   \n",
       "26            0            NaN         41   среднее             1   \n",
       "29            0            NaN         63   среднее             1   \n",
       "41            0            NaN         50   среднее             1   \n",
       "55            0            NaN         54   среднее             1   \n",
       "...         ...            ...        ...       ...           ...   \n",
       "21489         2            NaN         47   Среднее             1   \n",
       "21495         1            NaN         50   среднее             1   \n",
       "21497         0            NaN         48    ВЫСШЕЕ             0   \n",
       "21502         1            NaN         42   среднее             1   \n",
       "21510         2            NaN         28   среднее             1   \n",
       "\n",
       "               family_status  family_status_id gender  income_type  debt  \\\n",
       "12          гражданский брак                 1      M    пенсионер     0   \n",
       "26           женат / замужем                 0      M  госслужащий     0   \n",
       "29     Не женат / не замужем                 4      F    пенсионер     0   \n",
       "41           женат / замужем                 0      F  госслужащий     0   \n",
       "55          гражданский брак                 1      F    пенсионер     1   \n",
       "...                      ...               ...    ...          ...   ...   \n",
       "21489        женат / замужем                 0      M    компаньон     0   \n",
       "21495       гражданский брак                 1      F    сотрудник     0   \n",
       "21497        женат / замужем                 0      F    компаньон     0   \n",
       "21502        женат / замужем                 0      F    сотрудник     0   \n",
       "21510        женат / замужем                 0      F    сотрудник     0   \n",
       "\n",
       "       total_income                           purpose  \n",
       "12              NaN                   сыграть свадьбу  \n",
       "26              NaN                       образование  \n",
       "29              NaN  строительство жилой недвижимости  \n",
       "41              NaN  сделка с подержанным автомобилем  \n",
       "55              NaN                   сыграть свадьбу  \n",
       "...             ...                               ...  \n",
       "21489           NaN              сделка с автомобилем  \n",
       "21495           NaN                           свадьба  \n",
       "21497           NaN        строительство недвижимости  \n",
       "21502           NaN  строительство жилой недвижимости  \n",
       "21510           NaN           приобретение автомобиля  \n",
       "\n",
       "[2174 rows x 12 columns]"
      ]
     },
     "execution_count": 3,
     "metadata": {},
     "output_type": "execute_result"
    }
   ],
   "source": [
    "data[(data['days_employed'].isnull() == True) & (data['total_income'].isnull() == True)]"
   ]
  },
  {
   "cell_type": "code",
   "execution_count": 4,
   "id": "6cbd1269",
   "metadata": {},
   "outputs": [
    {
     "name": "stdout",
     "output_type": "stream",
     "text": [
      "<class 'pandas.core.frame.DataFrame'>\n",
      "RangeIndex: 21525 entries, 0 to 21524\n",
      "Data columns (total 12 columns):\n",
      " #   Column            Non-Null Count  Dtype  \n",
      "---  ------            --------------  -----  \n",
      " 0   children          21525 non-null  int64  \n",
      " 1   days_employed     21525 non-null  float64\n",
      " 2   dob_years         21525 non-null  int64  \n",
      " 3   education         21525 non-null  object \n",
      " 4   education_id      21525 non-null  int64  \n",
      " 5   family_status     21525 non-null  object \n",
      " 6   family_status_id  21525 non-null  int64  \n",
      " 7   gender            21525 non-null  object \n",
      " 8   income_type       21525 non-null  object \n",
      " 9   debt              21525 non-null  int64  \n",
      " 10  total_income      21525 non-null  float64\n",
      " 11  purpose           21525 non-null  object \n",
      "dtypes: float64(2), int64(5), object(5)\n",
      "memory usage: 2.0+ MB\n"
     ]
    }
   ],
   "source": [
    "median_days_employed = data['days_employed'].median()\n",
    "data['days_employed'] = data['days_employed'].fillna(value=median_days_employed)\n",
    "median_total_income = data['total_income'].median()\n",
    "data['total_income'] = data['total_income'].fillna(value=median_total_income)\n",
    "data.info()"
   ]
  },
  {
   "cell_type": "markdown",
   "id": "33c7c4d1",
   "metadata": {},
   "source": [
    "### Шаг 2.2 Проверка данных на аномалии и исправления."
   ]
  },
  {
   "cell_type": "code",
   "execution_count": 5,
   "id": "05a52cbe",
   "metadata": {},
   "outputs": [
    {
     "data": {
      "text/html": [
       "<div>\n",
       "<style scoped>\n",
       "    .dataframe tbody tr th:only-of-type {\n",
       "        vertical-align: middle;\n",
       "    }\n",
       "\n",
       "    .dataframe tbody tr th {\n",
       "        vertical-align: top;\n",
       "    }\n",
       "\n",
       "    .dataframe thead th {\n",
       "        text-align: right;\n",
       "    }\n",
       "</style>\n",
       "<table border=\"1\" class=\"dataframe\">\n",
       "  <thead>\n",
       "    <tr style=\"text-align: right;\">\n",
       "      <th></th>\n",
       "      <th>children</th>\n",
       "      <th>days_employed</th>\n",
       "      <th>dob_years</th>\n",
       "      <th>education_id</th>\n",
       "      <th>family_status_id</th>\n",
       "      <th>debt</th>\n",
       "      <th>total_income</th>\n",
       "    </tr>\n",
       "  </thead>\n",
       "  <tbody>\n",
       "    <tr>\n",
       "      <th>count</th>\n",
       "      <td>21525.000000</td>\n",
       "      <td>21525.000000</td>\n",
       "      <td>21525.000000</td>\n",
       "      <td>21525.000000</td>\n",
       "      <td>21525.000000</td>\n",
       "      <td>21525.000000</td>\n",
       "      <td>2.152500e+04</td>\n",
       "    </tr>\n",
       "    <tr>\n",
       "      <th>mean</th>\n",
       "      <td>0.541092</td>\n",
       "      <td>60277.957929</td>\n",
       "      <td>43.293380</td>\n",
       "      <td>0.817236</td>\n",
       "      <td>0.972544</td>\n",
       "      <td>0.080883</td>\n",
       "      <td>1.651595e+05</td>\n",
       "    </tr>\n",
       "    <tr>\n",
       "      <th>std</th>\n",
       "      <td>1.379943</td>\n",
       "      <td>133301.583103</td>\n",
       "      <td>12.574584</td>\n",
       "      <td>0.548138</td>\n",
       "      <td>1.420324</td>\n",
       "      <td>0.272661</td>\n",
       "      <td>9.786607e+04</td>\n",
       "    </tr>\n",
       "    <tr>\n",
       "      <th>min</th>\n",
       "      <td>0.000000</td>\n",
       "      <td>24.141633</td>\n",
       "      <td>0.000000</td>\n",
       "      <td>0.000000</td>\n",
       "      <td>0.000000</td>\n",
       "      <td>0.000000</td>\n",
       "      <td>2.066726e+04</td>\n",
       "    </tr>\n",
       "    <tr>\n",
       "      <th>25%</th>\n",
       "      <td>0.000000</td>\n",
       "      <td>1025.608174</td>\n",
       "      <td>33.000000</td>\n",
       "      <td>1.000000</td>\n",
       "      <td>0.000000</td>\n",
       "      <td>0.000000</td>\n",
       "      <td>1.077982e+05</td>\n",
       "    </tr>\n",
       "    <tr>\n",
       "      <th>50%</th>\n",
       "      <td>0.000000</td>\n",
       "      <td>1808.053434</td>\n",
       "      <td>42.000000</td>\n",
       "      <td>1.000000</td>\n",
       "      <td>0.000000</td>\n",
       "      <td>0.000000</td>\n",
       "      <td>1.450179e+05</td>\n",
       "    </tr>\n",
       "    <tr>\n",
       "      <th>75%</th>\n",
       "      <td>1.000000</td>\n",
       "      <td>4779.587738</td>\n",
       "      <td>53.000000</td>\n",
       "      <td>1.000000</td>\n",
       "      <td>1.000000</td>\n",
       "      <td>0.000000</td>\n",
       "      <td>1.955436e+05</td>\n",
       "    </tr>\n",
       "    <tr>\n",
       "      <th>max</th>\n",
       "      <td>20.000000</td>\n",
       "      <td>401755.400475</td>\n",
       "      <td>75.000000</td>\n",
       "      <td>4.000000</td>\n",
       "      <td>4.000000</td>\n",
       "      <td>1.000000</td>\n",
       "      <td>2.265604e+06</td>\n",
       "    </tr>\n",
       "  </tbody>\n",
       "</table>\n",
       "</div>"
      ],
      "text/plain": [
       "           children  days_employed     dob_years  education_id  \\\n",
       "count  21525.000000   21525.000000  21525.000000  21525.000000   \n",
       "mean       0.541092   60277.957929     43.293380      0.817236   \n",
       "std        1.379943  133301.583103     12.574584      0.548138   \n",
       "min        0.000000      24.141633      0.000000      0.000000   \n",
       "25%        0.000000    1025.608174     33.000000      1.000000   \n",
       "50%        0.000000    1808.053434     42.000000      1.000000   \n",
       "75%        1.000000    4779.587738     53.000000      1.000000   \n",
       "max       20.000000  401755.400475     75.000000      4.000000   \n",
       "\n",
       "       family_status_id          debt  total_income  \n",
       "count      21525.000000  21525.000000  2.152500e+04  \n",
       "mean           0.972544      0.080883  1.651595e+05  \n",
       "std            1.420324      0.272661  9.786607e+04  \n",
       "min            0.000000      0.000000  2.066726e+04  \n",
       "25%            0.000000      0.000000  1.077982e+05  \n",
       "50%            0.000000      0.000000  1.450179e+05  \n",
       "75%            1.000000      0.000000  1.955436e+05  \n",
       "max            4.000000      1.000000  2.265604e+06  "
      ]
     },
     "execution_count": 5,
     "metadata": {},
     "output_type": "execute_result"
    }
   ],
   "source": [
    "#заменим количество детей со значения -1 на 0\n",
    "data['children'] = data['children'].replace(-1, 0)\n",
    "data.dropna(subset=['gender'])\n",
    "data['children'] = abs(data['children'])\n",
    "data['days_employed'] = abs(data['days_employed'])\n",
    "data['dob_years'] = abs(data['dob_years'])\n",
    "data['total_income'] = abs(data['total_income'])\n",
    "data.describe()\n"
   ]
  },
  {
   "cell_type": "code",
   "execution_count": 6,
   "id": "afb67328",
   "metadata": {},
   "outputs": [
    {
     "data": {
      "text/plain": [
       "0        1\n",
       "1        1\n",
       "2        0\n",
       "3        3\n",
       "4        0\n",
       "        ..\n",
       "21520    1\n",
       "21521    0\n",
       "21522    1\n",
       "21523    3\n",
       "21524    2\n",
       "Name: children, Length: 21525, dtype: int64"
      ]
     },
     "execution_count": 6,
     "metadata": {},
     "output_type": "execute_result"
    }
   ],
   "source": [
    "data['children'].abs()"
   ]
  },
  {
   "cell_type": "markdown",
   "id": "36fc8a24",
   "metadata": {},
   "source": [
    "### Шаг 2.3. Изменение типов данных."
   ]
  },
  {
   "cell_type": "code",
   "execution_count": 7,
   "id": "9b33f6de",
   "metadata": {},
   "outputs": [
    {
     "name": "stdout",
     "output_type": "stream",
     "text": [
      "<class 'pandas.core.frame.DataFrame'>\n",
      "RangeIndex: 21525 entries, 0 to 21524\n",
      "Data columns (total 12 columns):\n",
      " #   Column            Non-Null Count  Dtype \n",
      "---  ------            --------------  ----- \n",
      " 0   children          21525 non-null  int64 \n",
      " 1   days_employed     21525 non-null  int64 \n",
      " 2   dob_years         21525 non-null  int64 \n",
      " 3   education         21525 non-null  object\n",
      " 4   education_id      21525 non-null  int64 \n",
      " 5   family_status     21525 non-null  object\n",
      " 6   family_status_id  21525 non-null  int64 \n",
      " 7   gender            21525 non-null  object\n",
      " 8   income_type       21525 non-null  object\n",
      " 9   debt              21525 non-null  int64 \n",
      " 10  total_income      21525 non-null  int64 \n",
      " 11  purpose           21525 non-null  object\n",
      "dtypes: int64(7), object(5)\n",
      "memory usage: 2.0+ MB\n"
     ]
    }
   ],
   "source": [
    "data['days_employed'] = data['days_employed'].astype('int')\n",
    "data['total_income'] = data['total_income'].astype('int')\n",
    "data.info()"
   ]
  },
  {
   "cell_type": "markdown",
   "id": "1ffe5d9b",
   "metadata": {},
   "source": [
    "### Шаг 2.4. Удаление дубликатов."
   ]
  },
  {
   "cell_type": "code",
   "execution_count": 8,
   "id": "79137fc2",
   "metadata": {},
   "outputs": [],
   "source": [
    "#data['purpose'].value_counts()\n",
    "data['education'] = data['education'].str.lower()\n"
   ]
  },
  {
   "cell_type": "markdown",
   "id": "8824c0f8",
   "metadata": {},
   "source": [
    "### Шаг 2.5. Формирование дополнительных датафреймов словарей, декомпозиция исходного датафрейма."
   ]
  },
  {
   "cell_type": "code",
   "execution_count": 9,
   "id": "10b96f25",
   "metadata": {},
   "outputs": [
    {
     "data": {
      "text/html": [
       "<div>\n",
       "<style scoped>\n",
       "    .dataframe tbody tr th:only-of-type {\n",
       "        vertical-align: middle;\n",
       "    }\n",
       "\n",
       "    .dataframe tbody tr th {\n",
       "        vertical-align: top;\n",
       "    }\n",
       "\n",
       "    .dataframe thead th {\n",
       "        text-align: right;\n",
       "    }\n",
       "</style>\n",
       "<table border=\"1\" class=\"dataframe\">\n",
       "  <thead>\n",
       "    <tr style=\"text-align: right;\">\n",
       "      <th></th>\n",
       "      <th>family_status_id</th>\n",
       "      <th>family_status</th>\n",
       "    </tr>\n",
       "  </thead>\n",
       "  <tbody>\n",
       "    <tr>\n",
       "      <th>0</th>\n",
       "      <td>0</td>\n",
       "      <td>женат / замужем</td>\n",
       "    </tr>\n",
       "    <tr>\n",
       "      <th>1</th>\n",
       "      <td>1</td>\n",
       "      <td>гражданский брак</td>\n",
       "    </tr>\n",
       "    <tr>\n",
       "      <th>2</th>\n",
       "      <td>2</td>\n",
       "      <td>вдовец / вдова</td>\n",
       "    </tr>\n",
       "    <tr>\n",
       "      <th>3</th>\n",
       "      <td>3</td>\n",
       "      <td>в разводе</td>\n",
       "    </tr>\n",
       "    <tr>\n",
       "      <th>4</th>\n",
       "      <td>4</td>\n",
       "      <td>Не женат / не замужем</td>\n",
       "    </tr>\n",
       "  </tbody>\n",
       "</table>\n",
       "</div>"
      ],
      "text/plain": [
       "   family_status_id          family_status\n",
       "0                 0        женат / замужем\n",
       "1                 1       гражданский брак\n",
       "2                 2         вдовец / вдова\n",
       "3                 3              в разводе\n",
       "4                 4  Не женат / не замужем"
      ]
     },
     "execution_count": 9,
     "metadata": {},
     "output_type": "execute_result"
    }
   ],
   "source": [
    "education_log = data[['education_id', 'education']]\n",
    "education_log.drop_duplicates().reset_index(drop=True)\n",
    "family_status_log = data[['family_status_id', 'family_status']]\n",
    "family_status_log.drop_duplicates().reset_index(drop=True)"
   ]
  },
  {
   "cell_type": "markdown",
   "id": "20f66b15",
   "metadata": {},
   "source": [
    "### Шаг 2.6. Категоризация дохода."
   ]
  },
  {
   "cell_type": "code",
   "execution_count": 10,
   "id": "18ce9b5d",
   "metadata": {},
   "outputs": [],
   "source": [
    "def total_income_category(total_income):\n",
    "    if total_income <=30000:\n",
    "        return 'E'\n",
    "    if 30001 <= total_income <= 50000:\n",
    "        return 'D'\n",
    "    if 50001 <= total_income <= 200000:\n",
    "        return 'C'\n",
    "    if 200001 <= total_income <= 1000000:\n",
    "        return 'B'\n",
    "    return 'A'\n",
    "data['total_income_category'] = data['total_income'].apply(total_income_category)\n"
   ]
  },
  {
   "cell_type": "markdown",
   "id": "fd423b5a",
   "metadata": {},
   "source": [
    "### Шаг 2.7. Категоризация целей кредита."
   ]
  },
  {
   "cell_type": "code",
   "execution_count": 11,
   "id": "56fa698d",
   "metadata": {},
   "outputs": [
    {
     "data": {
      "text/html": [
       "<div>\n",
       "<style scoped>\n",
       "    .dataframe tbody tr th:only-of-type {\n",
       "        vertical-align: middle;\n",
       "    }\n",
       "\n",
       "    .dataframe tbody tr th {\n",
       "        vertical-align: top;\n",
       "    }\n",
       "\n",
       "    .dataframe thead th {\n",
       "        text-align: right;\n",
       "    }\n",
       "</style>\n",
       "<table border=\"1\" class=\"dataframe\">\n",
       "  <thead>\n",
       "    <tr style=\"text-align: right;\">\n",
       "      <th></th>\n",
       "      <th>children</th>\n",
       "      <th>days_employed</th>\n",
       "      <th>dob_years</th>\n",
       "      <th>education</th>\n",
       "      <th>education_id</th>\n",
       "      <th>family_status</th>\n",
       "      <th>family_status_id</th>\n",
       "      <th>gender</th>\n",
       "      <th>income_type</th>\n",
       "      <th>debt</th>\n",
       "      <th>total_income</th>\n",
       "      <th>purpose</th>\n",
       "      <th>total_income_category</th>\n",
       "      <th>purpose_category</th>\n",
       "    </tr>\n",
       "  </thead>\n",
       "  <tbody>\n",
       "    <tr>\n",
       "      <th>0</th>\n",
       "      <td>1</td>\n",
       "      <td>8437</td>\n",
       "      <td>42</td>\n",
       "      <td>высшее</td>\n",
       "      <td>0</td>\n",
       "      <td>женат / замужем</td>\n",
       "      <td>0</td>\n",
       "      <td>F</td>\n",
       "      <td>сотрудник</td>\n",
       "      <td>0</td>\n",
       "      <td>253875</td>\n",
       "      <td>покупка жилья</td>\n",
       "      <td>B</td>\n",
       "      <td>операции с недвижимостью</td>\n",
       "    </tr>\n",
       "    <tr>\n",
       "      <th>1</th>\n",
       "      <td>1</td>\n",
       "      <td>4024</td>\n",
       "      <td>36</td>\n",
       "      <td>среднее</td>\n",
       "      <td>1</td>\n",
       "      <td>женат / замужем</td>\n",
       "      <td>0</td>\n",
       "      <td>F</td>\n",
       "      <td>сотрудник</td>\n",
       "      <td>0</td>\n",
       "      <td>112080</td>\n",
       "      <td>приобретение автомобиля</td>\n",
       "      <td>C</td>\n",
       "      <td>операции с автомобилем</td>\n",
       "    </tr>\n",
       "    <tr>\n",
       "      <th>2</th>\n",
       "      <td>0</td>\n",
       "      <td>5623</td>\n",
       "      <td>33</td>\n",
       "      <td>среднее</td>\n",
       "      <td>1</td>\n",
       "      <td>женат / замужем</td>\n",
       "      <td>0</td>\n",
       "      <td>M</td>\n",
       "      <td>сотрудник</td>\n",
       "      <td>0</td>\n",
       "      <td>145885</td>\n",
       "      <td>покупка жилья</td>\n",
       "      <td>C</td>\n",
       "      <td>операции с недвижимостью</td>\n",
       "    </tr>\n",
       "    <tr>\n",
       "      <th>3</th>\n",
       "      <td>3</td>\n",
       "      <td>4124</td>\n",
       "      <td>32</td>\n",
       "      <td>среднее</td>\n",
       "      <td>1</td>\n",
       "      <td>женат / замужем</td>\n",
       "      <td>0</td>\n",
       "      <td>M</td>\n",
       "      <td>сотрудник</td>\n",
       "      <td>0</td>\n",
       "      <td>267628</td>\n",
       "      <td>дополнительное образование</td>\n",
       "      <td>B</td>\n",
       "      <td>получение образования</td>\n",
       "    </tr>\n",
       "    <tr>\n",
       "      <th>4</th>\n",
       "      <td>0</td>\n",
       "      <td>340266</td>\n",
       "      <td>53</td>\n",
       "      <td>среднее</td>\n",
       "      <td>1</td>\n",
       "      <td>гражданский брак</td>\n",
       "      <td>1</td>\n",
       "      <td>F</td>\n",
       "      <td>пенсионер</td>\n",
       "      <td>0</td>\n",
       "      <td>158616</td>\n",
       "      <td>сыграть свадьбу</td>\n",
       "      <td>C</td>\n",
       "      <td>проведение свадьбы</td>\n",
       "    </tr>\n",
       "    <tr>\n",
       "      <th>...</th>\n",
       "      <td>...</td>\n",
       "      <td>...</td>\n",
       "      <td>...</td>\n",
       "      <td>...</td>\n",
       "      <td>...</td>\n",
       "      <td>...</td>\n",
       "      <td>...</td>\n",
       "      <td>...</td>\n",
       "      <td>...</td>\n",
       "      <td>...</td>\n",
       "      <td>...</td>\n",
       "      <td>...</td>\n",
       "      <td>...</td>\n",
       "      <td>...</td>\n",
       "    </tr>\n",
       "    <tr>\n",
       "      <th>21520</th>\n",
       "      <td>1</td>\n",
       "      <td>4529</td>\n",
       "      <td>43</td>\n",
       "      <td>среднее</td>\n",
       "      <td>1</td>\n",
       "      <td>гражданский брак</td>\n",
       "      <td>1</td>\n",
       "      <td>F</td>\n",
       "      <td>компаньон</td>\n",
       "      <td>0</td>\n",
       "      <td>224791</td>\n",
       "      <td>операции с жильем</td>\n",
       "      <td>B</td>\n",
       "      <td>операции с недвижимостью</td>\n",
       "    </tr>\n",
       "    <tr>\n",
       "      <th>21521</th>\n",
       "      <td>0</td>\n",
       "      <td>343937</td>\n",
       "      <td>67</td>\n",
       "      <td>среднее</td>\n",
       "      <td>1</td>\n",
       "      <td>женат / замужем</td>\n",
       "      <td>0</td>\n",
       "      <td>F</td>\n",
       "      <td>пенсионер</td>\n",
       "      <td>0</td>\n",
       "      <td>155999</td>\n",
       "      <td>сделка с автомобилем</td>\n",
       "      <td>C</td>\n",
       "      <td>операции с автомобилем</td>\n",
       "    </tr>\n",
       "    <tr>\n",
       "      <th>21522</th>\n",
       "      <td>1</td>\n",
       "      <td>2113</td>\n",
       "      <td>38</td>\n",
       "      <td>среднее</td>\n",
       "      <td>1</td>\n",
       "      <td>гражданский брак</td>\n",
       "      <td>1</td>\n",
       "      <td>M</td>\n",
       "      <td>сотрудник</td>\n",
       "      <td>1</td>\n",
       "      <td>89672</td>\n",
       "      <td>недвижимость</td>\n",
       "      <td>C</td>\n",
       "      <td>операции с недвижимостью</td>\n",
       "    </tr>\n",
       "    <tr>\n",
       "      <th>21523</th>\n",
       "      <td>3</td>\n",
       "      <td>3112</td>\n",
       "      <td>38</td>\n",
       "      <td>среднее</td>\n",
       "      <td>1</td>\n",
       "      <td>женат / замужем</td>\n",
       "      <td>0</td>\n",
       "      <td>M</td>\n",
       "      <td>сотрудник</td>\n",
       "      <td>1</td>\n",
       "      <td>244093</td>\n",
       "      <td>на покупку своего автомобиля</td>\n",
       "      <td>B</td>\n",
       "      <td>None</td>\n",
       "    </tr>\n",
       "    <tr>\n",
       "      <th>21524</th>\n",
       "      <td>2</td>\n",
       "      <td>1984</td>\n",
       "      <td>40</td>\n",
       "      <td>среднее</td>\n",
       "      <td>1</td>\n",
       "      <td>женат / замужем</td>\n",
       "      <td>0</td>\n",
       "      <td>F</td>\n",
       "      <td>сотрудник</td>\n",
       "      <td>0</td>\n",
       "      <td>82047</td>\n",
       "      <td>на покупку автомобиля</td>\n",
       "      <td>C</td>\n",
       "      <td>операции с автомобилем</td>\n",
       "    </tr>\n",
       "  </tbody>\n",
       "</table>\n",
       "<p>21525 rows × 14 columns</p>\n",
       "</div>"
      ],
      "text/plain": [
       "       children  days_employed  dob_years education  education_id  \\\n",
       "0             1           8437         42    высшее             0   \n",
       "1             1           4024         36   среднее             1   \n",
       "2             0           5623         33   среднее             1   \n",
       "3             3           4124         32   среднее             1   \n",
       "4             0         340266         53   среднее             1   \n",
       "...         ...            ...        ...       ...           ...   \n",
       "21520         1           4529         43   среднее             1   \n",
       "21521         0         343937         67   среднее             1   \n",
       "21522         1           2113         38   среднее             1   \n",
       "21523         3           3112         38   среднее             1   \n",
       "21524         2           1984         40   среднее             1   \n",
       "\n",
       "          family_status  family_status_id gender income_type  debt  \\\n",
       "0       женат / замужем                 0      F   сотрудник     0   \n",
       "1       женат / замужем                 0      F   сотрудник     0   \n",
       "2       женат / замужем                 0      M   сотрудник     0   \n",
       "3       женат / замужем                 0      M   сотрудник     0   \n",
       "4      гражданский брак                 1      F   пенсионер     0   \n",
       "...                 ...               ...    ...         ...   ...   \n",
       "21520  гражданский брак                 1      F   компаньон     0   \n",
       "21521   женат / замужем                 0      F   пенсионер     0   \n",
       "21522  гражданский брак                 1      M   сотрудник     1   \n",
       "21523   женат / замужем                 0      M   сотрудник     1   \n",
       "21524   женат / замужем                 0      F   сотрудник     0   \n",
       "\n",
       "       total_income                       purpose total_income_category  \\\n",
       "0            253875                 покупка жилья                     B   \n",
       "1            112080       приобретение автомобиля                     C   \n",
       "2            145885                 покупка жилья                     C   \n",
       "3            267628    дополнительное образование                     B   \n",
       "4            158616               сыграть свадьбу                     C   \n",
       "...             ...                           ...                   ...   \n",
       "21520        224791             операции с жильем                     B   \n",
       "21521        155999          сделка с автомобилем                     C   \n",
       "21522         89672                  недвижимость                     C   \n",
       "21523        244093  на покупку своего автомобиля                     B   \n",
       "21524         82047         на покупку автомобиля                     C   \n",
       "\n",
       "               purpose_category  \n",
       "0      операции с недвижимостью  \n",
       "1        операции с автомобилем  \n",
       "2      операции с недвижимостью  \n",
       "3         получение образования  \n",
       "4            проведение свадьбы  \n",
       "...                         ...  \n",
       "21520  операции с недвижимостью  \n",
       "21521    операции с автомобилем  \n",
       "21522  операции с недвижимостью  \n",
       "21523                      None  \n",
       "21524    операции с автомобилем  \n",
       "\n",
       "[21525 rows x 14 columns]"
      ]
     },
     "execution_count": 11,
     "metadata": {},
     "output_type": "execute_result"
    }
   ],
   "source": [
    "data['purpose'].value_counts()\n",
    "def purpose_category(purpose):\n",
    "    if purpose == 'свадьба':\n",
    "        return 'проведение свадьбы'\n",
    "    if purpose == 'на проведение свадьбы':\n",
    "        return 'проведение свадьбы'\n",
    "    if purpose == 'сыграть свадьбу':\n",
    "        return 'проведение свадьбы'\n",
    "    if purpose == 'операции с недвижимостью':\n",
    "        return 'операции с недвижимостью'\n",
    "    if purpose == 'покупка коммерческой недвижимости':\n",
    "        return 'операции с недвижимостью'\n",
    "    if purpose == 'операции с жильем':\n",
    "        return 'операции с недвижимостью'\n",
    "    if purpose == 'покупка жилья для сдачи':\n",
    "        return 'операции с недвижимостью'\n",
    "    if purpose == 'операции с коммерческой недвижимостью':\n",
    "        return 'операции с недвижимостью'\n",
    "    if purpose == 'покупка жилья':\n",
    "        return 'операции с недвижимостью'\n",
    "    if purpose == 'жилье':\n",
    "        return 'операции с недвижимостью'\n",
    "    if purpose == 'покупка жилья для семьи':\n",
    "        return 'операции с недвижимостью'\n",
    "    if purpose == 'строительство собственной недвижимости':\n",
    "        return 'операции с недвижимостью'\n",
    "    if purpose == 'недвижимость':\n",
    "        return 'операции с недвижимостью'\n",
    "    if purpose == 'операции со своей недвижимостью':\n",
    "        return 'операции с недвижимостью'\n",
    "    if purpose == 'строительство жилой недвижимости':\n",
    "        return 'операции с недвижимостью'\n",
    "    if purpose == 'покупка недвижимости':\n",
    "        return 'операции с недвижимостью'\n",
    "    if purpose == 'покупка своего жилья':\n",
    "        return 'операции с недвижимостью'\n",
    "    if purpose == 'строительство недвижимости':\n",
    "        return 'операции с недвижимостью'\n",
    "    if purpose == 'ремонт жилью':\n",
    "        return 'операции с недвижимостью'\n",
    "    if purpose == 'покупка жилой недвижимости':\n",
    "        return 'операции с недвижимостью'\n",
    "    if purpose == 'на покупку своего автомобиля ':\n",
    "        return 'операции с автомобилем'\n",
    "    if purpose == 'автомобиль':\n",
    "        return 'операции с автомобилем'\n",
    "    if purpose == 'сделка с подержанным автомобилем':\n",
    "        return 'операции с автомобилем'\n",
    "    if purpose == 'свой автомобиль':\n",
    "        return 'операции с автомобилем'\n",
    "    if purpose == 'на покупку подержанного автомобиля':\n",
    "        return 'операции с автомобилем'\n",
    "    if purpose == 'автомобили':\n",
    "        return 'операции с автомобилем'\n",
    "    if purpose == 'на покупку автомобиля':\n",
    "        return 'операции с автомобилем'\n",
    "    if purpose == 'приобретение автомобиля':\n",
    "        return 'операции с автомобилем'\n",
    "    if purpose == 'сделка с автомобилем':\n",
    "        return 'операции с автомобилем'\n",
    "    if purpose == 'заняться высшим образованием':\n",
    "        return 'получение образования'\n",
    "    if purpose == 'дополнительное образование':\n",
    "        return 'получение образования'\n",
    "    if purpose == 'высшее образование':\n",
    "        return 'получение образования'\n",
    "    if purpose == 'образование':\n",
    "        return 'получение образования'\n",
    "    if purpose == 'получение дополнительного образования':\n",
    "        return 'получение образования'\n",
    "    if purpose == 'получение образования':\n",
    "        return 'получение образования'\n",
    "    if purpose == 'профильное образование':\n",
    "        return 'получение образования'\n",
    "    if purpose == 'получение высшего образования':\n",
    "        return 'получение образования'\n",
    "    if purpose == 'заняться образованием':\n",
    "        return 'получение образования'\n",
    "data['purpose_category'] = data['purpose'].apply(purpose_category)\n",
    "data\n"
   ]
  },
  {
   "cell_type": "code",
   "execution_count": 12,
   "id": "42896d53",
   "metadata": {},
   "outputs": [
    {
     "data": {
      "text/html": [
       "<div>\n",
       "<style scoped>\n",
       "    .dataframe tbody tr th:only-of-type {\n",
       "        vertical-align: middle;\n",
       "    }\n",
       "\n",
       "    .dataframe tbody tr th {\n",
       "        vertical-align: top;\n",
       "    }\n",
       "\n",
       "    .dataframe thead th {\n",
       "        text-align: right;\n",
       "    }\n",
       "</style>\n",
       "<table border=\"1\" class=\"dataframe\">\n",
       "  <thead>\n",
       "    <tr style=\"text-align: right;\">\n",
       "      <th></th>\n",
       "      <th>children</th>\n",
       "      <th>days_employed</th>\n",
       "      <th>dob_years</th>\n",
       "      <th>education</th>\n",
       "      <th>education_id</th>\n",
       "      <th>family_status</th>\n",
       "      <th>family_status_id</th>\n",
       "      <th>gender</th>\n",
       "      <th>income_type</th>\n",
       "      <th>debt</th>\n",
       "      <th>total_income</th>\n",
       "      <th>purpose</th>\n",
       "      <th>total_income_category</th>\n",
       "      <th>purpose_category</th>\n",
       "      <th>children_category</th>\n",
       "    </tr>\n",
       "  </thead>\n",
       "  <tbody>\n",
       "    <tr>\n",
       "      <th>0</th>\n",
       "      <td>1</td>\n",
       "      <td>8437</td>\n",
       "      <td>42</td>\n",
       "      <td>высшее</td>\n",
       "      <td>0</td>\n",
       "      <td>женат / замужем</td>\n",
       "      <td>0</td>\n",
       "      <td>F</td>\n",
       "      <td>сотрудник</td>\n",
       "      <td>0</td>\n",
       "      <td>253875</td>\n",
       "      <td>покупка жилья</td>\n",
       "      <td>B</td>\n",
       "      <td>операции с недвижимостью</td>\n",
       "      <td>есть дети</td>\n",
       "    </tr>\n",
       "    <tr>\n",
       "      <th>1</th>\n",
       "      <td>1</td>\n",
       "      <td>4024</td>\n",
       "      <td>36</td>\n",
       "      <td>среднее</td>\n",
       "      <td>1</td>\n",
       "      <td>женат / замужем</td>\n",
       "      <td>0</td>\n",
       "      <td>F</td>\n",
       "      <td>сотрудник</td>\n",
       "      <td>0</td>\n",
       "      <td>112080</td>\n",
       "      <td>приобретение автомобиля</td>\n",
       "      <td>C</td>\n",
       "      <td>операции с автомобилем</td>\n",
       "      <td>есть дети</td>\n",
       "    </tr>\n",
       "    <tr>\n",
       "      <th>2</th>\n",
       "      <td>0</td>\n",
       "      <td>5623</td>\n",
       "      <td>33</td>\n",
       "      <td>среднее</td>\n",
       "      <td>1</td>\n",
       "      <td>женат / замужем</td>\n",
       "      <td>0</td>\n",
       "      <td>M</td>\n",
       "      <td>сотрудник</td>\n",
       "      <td>0</td>\n",
       "      <td>145885</td>\n",
       "      <td>покупка жилья</td>\n",
       "      <td>C</td>\n",
       "      <td>операции с недвижимостью</td>\n",
       "      <td>нет детей</td>\n",
       "    </tr>\n",
       "    <tr>\n",
       "      <th>3</th>\n",
       "      <td>3</td>\n",
       "      <td>4124</td>\n",
       "      <td>32</td>\n",
       "      <td>среднее</td>\n",
       "      <td>1</td>\n",
       "      <td>женат / замужем</td>\n",
       "      <td>0</td>\n",
       "      <td>M</td>\n",
       "      <td>сотрудник</td>\n",
       "      <td>0</td>\n",
       "      <td>267628</td>\n",
       "      <td>дополнительное образование</td>\n",
       "      <td>B</td>\n",
       "      <td>получение образования</td>\n",
       "      <td>есть дети</td>\n",
       "    </tr>\n",
       "    <tr>\n",
       "      <th>4</th>\n",
       "      <td>0</td>\n",
       "      <td>340266</td>\n",
       "      <td>53</td>\n",
       "      <td>среднее</td>\n",
       "      <td>1</td>\n",
       "      <td>гражданский брак</td>\n",
       "      <td>1</td>\n",
       "      <td>F</td>\n",
       "      <td>пенсионер</td>\n",
       "      <td>0</td>\n",
       "      <td>158616</td>\n",
       "      <td>сыграть свадьбу</td>\n",
       "      <td>C</td>\n",
       "      <td>проведение свадьбы</td>\n",
       "      <td>нет детей</td>\n",
       "    </tr>\n",
       "    <tr>\n",
       "      <th>...</th>\n",
       "      <td>...</td>\n",
       "      <td>...</td>\n",
       "      <td>...</td>\n",
       "      <td>...</td>\n",
       "      <td>...</td>\n",
       "      <td>...</td>\n",
       "      <td>...</td>\n",
       "      <td>...</td>\n",
       "      <td>...</td>\n",
       "      <td>...</td>\n",
       "      <td>...</td>\n",
       "      <td>...</td>\n",
       "      <td>...</td>\n",
       "      <td>...</td>\n",
       "      <td>...</td>\n",
       "    </tr>\n",
       "    <tr>\n",
       "      <th>21520</th>\n",
       "      <td>1</td>\n",
       "      <td>4529</td>\n",
       "      <td>43</td>\n",
       "      <td>среднее</td>\n",
       "      <td>1</td>\n",
       "      <td>гражданский брак</td>\n",
       "      <td>1</td>\n",
       "      <td>F</td>\n",
       "      <td>компаньон</td>\n",
       "      <td>0</td>\n",
       "      <td>224791</td>\n",
       "      <td>операции с жильем</td>\n",
       "      <td>B</td>\n",
       "      <td>операции с недвижимостью</td>\n",
       "      <td>есть дети</td>\n",
       "    </tr>\n",
       "    <tr>\n",
       "      <th>21521</th>\n",
       "      <td>0</td>\n",
       "      <td>343937</td>\n",
       "      <td>67</td>\n",
       "      <td>среднее</td>\n",
       "      <td>1</td>\n",
       "      <td>женат / замужем</td>\n",
       "      <td>0</td>\n",
       "      <td>F</td>\n",
       "      <td>пенсионер</td>\n",
       "      <td>0</td>\n",
       "      <td>155999</td>\n",
       "      <td>сделка с автомобилем</td>\n",
       "      <td>C</td>\n",
       "      <td>операции с автомобилем</td>\n",
       "      <td>нет детей</td>\n",
       "    </tr>\n",
       "    <tr>\n",
       "      <th>21522</th>\n",
       "      <td>1</td>\n",
       "      <td>2113</td>\n",
       "      <td>38</td>\n",
       "      <td>среднее</td>\n",
       "      <td>1</td>\n",
       "      <td>гражданский брак</td>\n",
       "      <td>1</td>\n",
       "      <td>M</td>\n",
       "      <td>сотрудник</td>\n",
       "      <td>1</td>\n",
       "      <td>89672</td>\n",
       "      <td>недвижимость</td>\n",
       "      <td>C</td>\n",
       "      <td>операции с недвижимостью</td>\n",
       "      <td>есть дети</td>\n",
       "    </tr>\n",
       "    <tr>\n",
       "      <th>21523</th>\n",
       "      <td>3</td>\n",
       "      <td>3112</td>\n",
       "      <td>38</td>\n",
       "      <td>среднее</td>\n",
       "      <td>1</td>\n",
       "      <td>женат / замужем</td>\n",
       "      <td>0</td>\n",
       "      <td>M</td>\n",
       "      <td>сотрудник</td>\n",
       "      <td>1</td>\n",
       "      <td>244093</td>\n",
       "      <td>на покупку своего автомобиля</td>\n",
       "      <td>B</td>\n",
       "      <td>None</td>\n",
       "      <td>есть дети</td>\n",
       "    </tr>\n",
       "    <tr>\n",
       "      <th>21524</th>\n",
       "      <td>2</td>\n",
       "      <td>1984</td>\n",
       "      <td>40</td>\n",
       "      <td>среднее</td>\n",
       "      <td>1</td>\n",
       "      <td>женат / замужем</td>\n",
       "      <td>0</td>\n",
       "      <td>F</td>\n",
       "      <td>сотрудник</td>\n",
       "      <td>0</td>\n",
       "      <td>82047</td>\n",
       "      <td>на покупку автомобиля</td>\n",
       "      <td>C</td>\n",
       "      <td>операции с автомобилем</td>\n",
       "      <td>есть дети</td>\n",
       "    </tr>\n",
       "  </tbody>\n",
       "</table>\n",
       "<p>21525 rows × 15 columns</p>\n",
       "</div>"
      ],
      "text/plain": [
       "       children  days_employed  dob_years education  education_id  \\\n",
       "0             1           8437         42    высшее             0   \n",
       "1             1           4024         36   среднее             1   \n",
       "2             0           5623         33   среднее             1   \n",
       "3             3           4124         32   среднее             1   \n",
       "4             0         340266         53   среднее             1   \n",
       "...         ...            ...        ...       ...           ...   \n",
       "21520         1           4529         43   среднее             1   \n",
       "21521         0         343937         67   среднее             1   \n",
       "21522         1           2113         38   среднее             1   \n",
       "21523         3           3112         38   среднее             1   \n",
       "21524         2           1984         40   среднее             1   \n",
       "\n",
       "          family_status  family_status_id gender income_type  debt  \\\n",
       "0       женат / замужем                 0      F   сотрудник     0   \n",
       "1       женат / замужем                 0      F   сотрудник     0   \n",
       "2       женат / замужем                 0      M   сотрудник     0   \n",
       "3       женат / замужем                 0      M   сотрудник     0   \n",
       "4      гражданский брак                 1      F   пенсионер     0   \n",
       "...                 ...               ...    ...         ...   ...   \n",
       "21520  гражданский брак                 1      F   компаньон     0   \n",
       "21521   женат / замужем                 0      F   пенсионер     0   \n",
       "21522  гражданский брак                 1      M   сотрудник     1   \n",
       "21523   женат / замужем                 0      M   сотрудник     1   \n",
       "21524   женат / замужем                 0      F   сотрудник     0   \n",
       "\n",
       "       total_income                       purpose total_income_category  \\\n",
       "0            253875                 покупка жилья                     B   \n",
       "1            112080       приобретение автомобиля                     C   \n",
       "2            145885                 покупка жилья                     C   \n",
       "3            267628    дополнительное образование                     B   \n",
       "4            158616               сыграть свадьбу                     C   \n",
       "...             ...                           ...                   ...   \n",
       "21520        224791             операции с жильем                     B   \n",
       "21521        155999          сделка с автомобилем                     C   \n",
       "21522         89672                  недвижимость                     C   \n",
       "21523        244093  на покупку своего автомобиля                     B   \n",
       "21524         82047         на покупку автомобиля                     C   \n",
       "\n",
       "               purpose_category children_category  \n",
       "0      операции с недвижимостью         есть дети  \n",
       "1        операции с автомобилем         есть дети  \n",
       "2      операции с недвижимостью         нет детей  \n",
       "3         получение образования         есть дети  \n",
       "4            проведение свадьбы         нет детей  \n",
       "...                         ...               ...  \n",
       "21520  операции с недвижимостью         есть дети  \n",
       "21521    операции с автомобилем         нет детей  \n",
       "21522  операции с недвижимостью         есть дети  \n",
       "21523                      None         есть дети  \n",
       "21524    операции с автомобилем         есть дети  \n",
       "\n",
       "[21525 rows x 15 columns]"
      ]
     },
     "execution_count": 12,
     "metadata": {},
     "output_type": "execute_result"
    }
   ],
   "source": [
    "def children_category(children):\n",
    "    if children == 0:\n",
    "        return 'нет детей'\n",
    "    else:\n",
    "        return 'есть дети'\n",
    "data['children_category'] = data['children'].apply(children_category)\n",
    "data"
   ]
  },
  {
   "cell_type": "markdown",
   "id": "3108cb58",
   "metadata": {},
   "source": [
    "### Ответы на вопросы."
   ]
  },
  {
   "cell_type": "markdown",
   "id": "03905ade",
   "metadata": {},
   "source": [
    "1. Есть ли зависимость между количеством детей и возвратом кредита в срок?1 1 "
   ]
  },
  {
   "cell_type": "code",
   "execution_count": 13,
   "id": "ecb89818",
   "metadata": {},
   "outputs": [
    {
     "data": {
      "text/html": [
       "<div>\n",
       "<style scoped>\n",
       "    .dataframe tbody tr th:only-of-type {\n",
       "        vertical-align: middle;\n",
       "    }\n",
       "\n",
       "    .dataframe tbody tr th {\n",
       "        vertical-align: top;\n",
       "    }\n",
       "\n",
       "    .dataframe thead th {\n",
       "        text-align: right;\n",
       "    }\n",
       "</style>\n",
       "<table border=\"1\" class=\"dataframe\">\n",
       "  <thead>\n",
       "    <tr style=\"text-align: right;\">\n",
       "      <th></th>\n",
       "      <th>debt</th>\n",
       "    </tr>\n",
       "    <tr>\n",
       "      <th>children_category</th>\n",
       "      <th></th>\n",
       "    </tr>\n",
       "  </thead>\n",
       "  <tbody>\n",
       "    <tr>\n",
       "      <th>нет детей</th>\n",
       "      <td>0.074951</td>\n",
       "    </tr>\n",
       "    <tr>\n",
       "      <th>есть дети</th>\n",
       "      <td>0.092373</td>\n",
       "    </tr>\n",
       "  </tbody>\n",
       "</table>\n",
       "</div>"
      ],
      "text/plain": [
       "                       debt\n",
       "children_category          \n",
       "нет детей          0.074951\n",
       "есть дети          0.092373"
      ]
     },
     "execution_count": 13,
     "metadata": {},
     "output_type": "execute_result"
    }
   ],
   "source": [
    "data.groupby('children_category')['debt'].mean().to_frame().sort_values(by='debt')"
   ]
  },
  {
   "cell_type": "markdown",
   "id": "651963a5",
   "metadata": {},
   "source": [
    "Вывод: при наличии детей, просрочка выплат выше"
   ]
  },
  {
   "cell_type": "markdown",
   "id": "fc1ba0ad",
   "metadata": {},
   "source": [
    "2. Есть ли зависимость между семейным положением и возвратом кредита в срок?"
   ]
  },
  {
   "cell_type": "code",
   "execution_count": 14,
   "id": "0f826e61",
   "metadata": {},
   "outputs": [
    {
     "data": {
      "text/html": [
       "<div>\n",
       "<style scoped>\n",
       "    .dataframe tbody tr th:only-of-type {\n",
       "        vertical-align: middle;\n",
       "    }\n",
       "\n",
       "    .dataframe tbody tr th {\n",
       "        vertical-align: top;\n",
       "    }\n",
       "\n",
       "    .dataframe thead th {\n",
       "        text-align: right;\n",
       "    }\n",
       "</style>\n",
       "<table border=\"1\" class=\"dataframe\">\n",
       "  <thead>\n",
       "    <tr style=\"text-align: right;\">\n",
       "      <th></th>\n",
       "      <th>debt</th>\n",
       "    </tr>\n",
       "    <tr>\n",
       "      <th>family_status</th>\n",
       "      <th></th>\n",
       "    </tr>\n",
       "  </thead>\n",
       "  <tbody>\n",
       "    <tr>\n",
       "      <th>вдовец / вдова</th>\n",
       "      <td>0.065625</td>\n",
       "    </tr>\n",
       "    <tr>\n",
       "      <th>в разводе</th>\n",
       "      <td>0.071130</td>\n",
       "    </tr>\n",
       "    <tr>\n",
       "      <th>женат / замужем</th>\n",
       "      <td>0.075202</td>\n",
       "    </tr>\n",
       "    <tr>\n",
       "      <th>гражданский брак</th>\n",
       "      <td>0.092890</td>\n",
       "    </tr>\n",
       "    <tr>\n",
       "      <th>Не женат / не замужем</th>\n",
       "      <td>0.097405</td>\n",
       "    </tr>\n",
       "  </tbody>\n",
       "</table>\n",
       "</div>"
      ],
      "text/plain": [
       "                           debt\n",
       "family_status                  \n",
       "вдовец / вдова         0.065625\n",
       "в разводе              0.071130\n",
       "женат / замужем        0.075202\n",
       "гражданский брак       0.092890\n",
       "Не женат / не замужем  0.097405"
      ]
     },
     "execution_count": 14,
     "metadata": {},
     "output_type": "execute_result"
    }
   ],
   "source": [
    "data.groupby('family_status')['debt'].mean().to_frame().sort_values(by='debt')"
   ]
  },
  {
   "cell_type": "markdown",
   "id": "f9bae614",
   "metadata": {},
   "source": [
    "Вывод: люди находящиеся в зарегистрированном или гражданском браке чаще допускают просрочку "
   ]
  },
  {
   "cell_type": "markdown",
   "id": "c336fc1f",
   "metadata": {},
   "source": [
    "3. Есть ли зависимость между уровнем дохода и возвратом кредита в срок?"
   ]
  },
  {
   "cell_type": "code",
   "execution_count": 15,
   "id": "cea7a6de",
   "metadata": {},
   "outputs": [
    {
     "data": {
      "text/html": [
       "<div>\n",
       "<style scoped>\n",
       "    .dataframe tbody tr th:only-of-type {\n",
       "        vertical-align: middle;\n",
       "    }\n",
       "\n",
       "    .dataframe tbody tr th {\n",
       "        vertical-align: top;\n",
       "    }\n",
       "\n",
       "    .dataframe thead th {\n",
       "        text-align: right;\n",
       "    }\n",
       "</style>\n",
       "<table border=\"1\" class=\"dataframe\">\n",
       "  <thead>\n",
       "    <tr style=\"text-align: right;\">\n",
       "      <th></th>\n",
       "      <th>debt</th>\n",
       "    </tr>\n",
       "    <tr>\n",
       "      <th>total_income_category</th>\n",
       "      <th></th>\n",
       "    </tr>\n",
       "  </thead>\n",
       "  <tbody>\n",
       "    <tr>\n",
       "      <th>D</th>\n",
       "      <td>0.060000</td>\n",
       "    </tr>\n",
       "    <tr>\n",
       "      <th>B</th>\n",
       "      <td>0.070621</td>\n",
       "    </tr>\n",
       "    <tr>\n",
       "      <th>A</th>\n",
       "      <td>0.080000</td>\n",
       "    </tr>\n",
       "    <tr>\n",
       "      <th>C</th>\n",
       "      <td>0.084540</td>\n",
       "    </tr>\n",
       "    <tr>\n",
       "      <th>E</th>\n",
       "      <td>0.090909</td>\n",
       "    </tr>\n",
       "  </tbody>\n",
       "</table>\n",
       "</div>"
      ],
      "text/plain": [
       "                           debt\n",
       "total_income_category          \n",
       "D                      0.060000\n",
       "B                      0.070621\n",
       "A                      0.080000\n",
       "C                      0.084540\n",
       "E                      0.090909"
      ]
     },
     "execution_count": 15,
     "metadata": {},
     "output_type": "execute_result"
    }
   ],
   "source": [
    "data.groupby('total_income_category')['debt'].mean().to_frame().sort_values(by='debt')"
   ]
  },
  {
   "cell_type": "markdown",
   "id": "9bff2f26",
   "metadata": {},
   "source": [
    "Вывод: категория людей с доходом \"Е\" наиболее чаще допускают просрочку"
   ]
  },
  {
   "cell_type": "markdown",
   "id": "1efae109",
   "metadata": {},
   "source": [
    "4. Как разные цели кредита влияют на его возврат в срок?"
   ]
  },
  {
   "cell_type": "code",
   "execution_count": 16,
   "id": "3e21fc24",
   "metadata": {},
   "outputs": [
    {
     "data": {
      "text/html": [
       "<div>\n",
       "<style scoped>\n",
       "    .dataframe tbody tr th:only-of-type {\n",
       "        vertical-align: middle;\n",
       "    }\n",
       "\n",
       "    .dataframe tbody tr th {\n",
       "        vertical-align: top;\n",
       "    }\n",
       "\n",
       "    .dataframe thead th {\n",
       "        text-align: right;\n",
       "    }\n",
       "</style>\n",
       "<table border=\"1\" class=\"dataframe\">\n",
       "  <thead>\n",
       "    <tr style=\"text-align: right;\">\n",
       "      <th></th>\n",
       "      <th>debt</th>\n",
       "    </tr>\n",
       "    <tr>\n",
       "      <th>purpose_category</th>\n",
       "      <th></th>\n",
       "    </tr>\n",
       "  </thead>\n",
       "  <tbody>\n",
       "    <tr>\n",
       "      <th>операции с недвижимостью</th>\n",
       "      <td>0.072140</td>\n",
       "    </tr>\n",
       "    <tr>\n",
       "      <th>проведение свадьбы</th>\n",
       "      <td>0.079216</td>\n",
       "    </tr>\n",
       "    <tr>\n",
       "      <th>получение образования</th>\n",
       "      <td>0.091994</td>\n",
       "    </tr>\n",
       "    <tr>\n",
       "      <th>операции с автомобилем</th>\n",
       "      <td>0.093701</td>\n",
       "    </tr>\n",
       "  </tbody>\n",
       "</table>\n",
       "</div>"
      ],
      "text/plain": [
       "                              debt\n",
       "purpose_category                  \n",
       "операции с недвижимостью  0.072140\n",
       "проведение свадьбы        0.079216\n",
       "получение образования     0.091994\n",
       "операции с автомобилем    0.093701"
      ]
     },
     "execution_count": 16,
     "metadata": {},
     "output_type": "execute_result"
    }
   ],
   "source": [
    "data.groupby('purpose_category')['debt'].mean().to_frame().sort_values(by='debt')"
   ]
  },
  {
   "cell_type": "markdown",
   "id": "453644ad",
   "metadata": {},
   "source": [
    "Вывод: Люди, которые взяли заем для операций, связанных с автомобилем, чаще допускают просрочку по кредитам"
   ]
  },
  {
   "cell_type": "markdown",
   "id": "0bfe1064",
   "metadata": {},
   "source": [
    "## Общий вывод:"
   ]
  },
  {
   "cell_type": "markdown",
   "id": "8c7fffdc",
   "metadata": {},
   "source": [
    "Наиболее допускают просрочку люди с детьми и находящиеся в браке.\n",
    "Самые ответственные люди с категорией доход \"D\" и с целью на проведение операций с недвижимостью "
   ]
  }
 ],
 "metadata": {
  "ExecuteTimeLog": [
   {
    "duration": 1023,
    "start_time": "2022-02-11T12:20:21.126Z"
   },
   {
    "duration": 44,
    "start_time": "2022-02-11T12:20:33.443Z"
   },
   {
    "duration": 50,
    "start_time": "2022-02-11T12:21:18.891Z"
   },
   {
    "duration": 334,
    "start_time": "2022-02-12T15:30:31.418Z"
   },
   {
    "duration": 635,
    "start_time": "2022-02-12T15:30:37.507Z"
   },
   {
    "duration": 21,
    "start_time": "2022-02-12T15:30:41.907Z"
   },
   {
    "duration": 10,
    "start_time": "2022-02-12T15:31:16.708Z"
   },
   {
    "duration": 6,
    "start_time": "2022-02-12T15:39:14.688Z"
   },
   {
    "duration": 11,
    "start_time": "2022-02-12T15:39:35.368Z"
   },
   {
    "duration": 6,
    "start_time": "2022-02-12T15:40:04.087Z"
   },
   {
    "duration": 18,
    "start_time": "2022-02-12T15:40:21.612Z"
   },
   {
    "duration": 7,
    "start_time": "2022-02-12T15:42:24.248Z"
   },
   {
    "duration": 13,
    "start_time": "2022-02-12T15:42:33.043Z"
   },
   {
    "duration": 19,
    "start_time": "2022-02-12T16:22:24.937Z"
   },
   {
    "duration": 296,
    "start_time": "2022-02-12T16:25:38.369Z"
   },
   {
    "duration": 10,
    "start_time": "2022-02-12T16:25:59.698Z"
   },
   {
    "duration": 10,
    "start_time": "2022-02-12T16:26:54.574Z"
   },
   {
    "duration": 11,
    "start_time": "2022-02-12T16:29:04.317Z"
   },
   {
    "duration": 13,
    "start_time": "2022-02-12T16:31:20.125Z"
   },
   {
    "duration": 16,
    "start_time": "2022-02-12T16:33:34.288Z"
   },
   {
    "duration": 6,
    "start_time": "2022-02-12T16:36:38.351Z"
   },
   {
    "duration": 257,
    "start_time": "2022-02-12T16:38:11.470Z"
   },
   {
    "duration": 292,
    "start_time": "2022-02-12T16:38:31.181Z"
   },
   {
    "duration": 94,
    "start_time": "2022-02-12T16:41:39.846Z"
   },
   {
    "duration": 12,
    "start_time": "2022-02-12T16:41:49.568Z"
   },
   {
    "duration": 24,
    "start_time": "2022-02-12T16:42:08.123Z"
   },
   {
    "duration": 25,
    "start_time": "2022-02-12T16:42:24.385Z"
   },
   {
    "duration": 17,
    "start_time": "2022-02-12T16:42:46.761Z"
   },
   {
    "duration": 26,
    "start_time": "2022-02-12T16:42:55.709Z"
   },
   {
    "duration": 12,
    "start_time": "2022-02-12T16:43:01.590Z"
   },
   {
    "duration": 15,
    "start_time": "2022-02-12T16:43:33.754Z"
   },
   {
    "duration": 14,
    "start_time": "2022-02-12T16:43:53.676Z"
   },
   {
    "duration": 15,
    "start_time": "2022-02-12T16:44:02.136Z"
   },
   {
    "duration": 16,
    "start_time": "2022-02-12T16:44:17.851Z"
   },
   {
    "duration": 13,
    "start_time": "2022-02-12T16:44:36.325Z"
   },
   {
    "duration": 20,
    "start_time": "2022-02-12T16:44:45.305Z"
   },
   {
    "duration": 10,
    "start_time": "2022-02-12T16:44:58.142Z"
   },
   {
    "duration": 15,
    "start_time": "2022-02-12T16:53:54.746Z"
   },
   {
    "duration": 9,
    "start_time": "2022-02-12T16:54:08.745Z"
   },
   {
    "duration": 10,
    "start_time": "2022-02-12T16:54:14.021Z"
   },
   {
    "duration": 14,
    "start_time": "2022-02-12T16:54:24.184Z"
   },
   {
    "duration": 10,
    "start_time": "2022-02-12T17:02:37.147Z"
   },
   {
    "duration": 25,
    "start_time": "2022-02-12T17:02:48.309Z"
   },
   {
    "duration": 9,
    "start_time": "2022-02-12T17:03:05.207Z"
   },
   {
    "duration": 19,
    "start_time": "2022-02-12T19:25:44.616Z"
   },
   {
    "duration": 5,
    "start_time": "2022-02-12T19:26:17.633Z"
   },
   {
    "duration": 5,
    "start_time": "2022-02-12T19:27:34.846Z"
   },
   {
    "duration": 18,
    "start_time": "2022-02-12T19:34:03.517Z"
   },
   {
    "duration": 4,
    "start_time": "2022-02-12T19:34:46.642Z"
   },
   {
    "duration": 3986,
    "start_time": "2022-02-12T19:35:07.932Z"
   },
   {
    "duration": 4415,
    "start_time": "2022-02-12T19:35:20.592Z"
   },
   {
    "duration": 2691,
    "start_time": "2022-02-12T19:35:42.076Z"
   },
   {
    "duration": 6,
    "start_time": "2022-02-12T19:35:51.744Z"
   },
   {
    "duration": 19,
    "start_time": "2022-02-12T19:36:18.053Z"
   },
   {
    "duration": 18,
    "start_time": "2022-02-12T19:37:04.830Z"
   },
   {
    "duration": 15,
    "start_time": "2022-02-12T19:37:16.386Z"
   },
   {
    "duration": 6,
    "start_time": "2022-02-12T19:38:15.808Z"
   },
   {
    "duration": 21,
    "start_time": "2022-02-12T19:38:46.148Z"
   },
   {
    "duration": 9,
    "start_time": "2022-02-12T19:39:07.954Z"
   },
   {
    "duration": 11,
    "start_time": "2022-02-12T19:39:15.865Z"
   },
   {
    "duration": 22,
    "start_time": "2022-02-12T19:39:24.094Z"
   },
   {
    "duration": 8,
    "start_time": "2022-02-12T19:39:35.059Z"
   },
   {
    "duration": 20,
    "start_time": "2022-02-12T19:39:47.814Z"
   },
   {
    "duration": 9,
    "start_time": "2022-02-12T19:39:58.776Z"
   },
   {
    "duration": 7,
    "start_time": "2022-02-12T19:40:25.163Z"
   },
   {
    "duration": 79,
    "start_time": "2022-02-12T19:45:26.549Z"
   },
   {
    "duration": 69,
    "start_time": "2022-02-12T19:45:34.527Z"
   },
   {
    "duration": 68,
    "start_time": "2022-02-12T19:46:07.138Z"
   },
   {
    "duration": 12,
    "start_time": "2022-02-12T19:46:07.208Z"
   },
   {
    "duration": 6,
    "start_time": "2022-02-12T19:46:07.221Z"
   },
   {
    "duration": 11,
    "start_time": "2022-02-12T19:46:07.229Z"
   },
   {
    "duration": 10,
    "start_time": "2022-02-12T19:46:07.242Z"
   },
   {
    "duration": 15,
    "start_time": "2022-02-12T19:46:07.253Z"
   },
   {
    "duration": 9,
    "start_time": "2022-02-12T19:46:07.269Z"
   },
   {
    "duration": 93,
    "start_time": "2022-02-12T19:46:07.280Z"
   },
   {
    "duration": 31,
    "start_time": "2022-02-12T19:46:54.565Z"
   },
   {
    "duration": 25,
    "start_time": "2022-02-12T19:47:15.009Z"
   },
   {
    "duration": 12,
    "start_time": "2022-02-12T19:57:00.610Z"
   },
   {
    "duration": 12,
    "start_time": "2022-02-12T19:57:19.410Z"
   },
   {
    "duration": 15,
    "start_time": "2022-02-12T19:57:27.920Z"
   },
   {
    "duration": 67,
    "start_time": "2022-02-12T19:57:41.109Z"
   },
   {
    "duration": 8,
    "start_time": "2022-02-12T19:57:41.178Z"
   },
   {
    "duration": 12,
    "start_time": "2022-02-12T19:57:41.188Z"
   },
   {
    "duration": 28,
    "start_time": "2022-02-12T19:57:41.201Z"
   },
   {
    "duration": 13,
    "start_time": "2022-02-12T19:57:41.230Z"
   },
   {
    "duration": 11,
    "start_time": "2022-02-12T19:57:41.244Z"
   },
   {
    "duration": 17,
    "start_time": "2022-02-12T19:57:41.256Z"
   },
   {
    "duration": 8,
    "start_time": "2022-02-12T19:57:41.274Z"
   },
   {
    "duration": 99,
    "start_time": "2022-02-12T19:57:41.284Z"
   },
   {
    "duration": 98,
    "start_time": "2022-02-12T20:10:29.270Z"
   },
   {
    "duration": 94,
    "start_time": "2022-02-12T20:10:38.192Z"
   },
   {
    "duration": 95,
    "start_time": "2022-02-12T20:11:08.145Z"
   },
   {
    "duration": 10,
    "start_time": "2022-02-12T20:11:18.180Z"
   },
   {
    "duration": 8,
    "start_time": "2022-02-12T20:11:29.935Z"
   },
   {
    "duration": 7544,
    "start_time": "2022-02-12T20:12:12.520Z"
   },
   {
    "duration": 8,
    "start_time": "2022-02-12T20:12:39.940Z"
   },
   {
    "duration": 69,
    "start_time": "2022-02-12T20:12:56.963Z"
   },
   {
    "duration": 10,
    "start_time": "2022-02-12T20:12:57.034Z"
   },
   {
    "duration": 8,
    "start_time": "2022-02-12T20:12:57.046Z"
   },
   {
    "duration": 16,
    "start_time": "2022-02-12T20:12:57.055Z"
   },
   {
    "duration": 7,
    "start_time": "2022-02-12T20:12:57.073Z"
   },
   {
    "duration": 45,
    "start_time": "2022-02-12T20:12:57.082Z"
   },
   {
    "duration": 10,
    "start_time": "2022-02-12T20:12:57.129Z"
   },
   {
    "duration": 18,
    "start_time": "2022-02-12T20:12:57.140Z"
   },
   {
    "duration": 9,
    "start_time": "2022-02-12T20:12:57.160Z"
   },
   {
    "duration": 96,
    "start_time": "2022-02-12T20:12:57.170Z"
   },
   {
    "duration": 9,
    "start_time": "2022-02-12T20:13:24.033Z"
   },
   {
    "duration": 8,
    "start_time": "2022-02-12T20:13:54.035Z"
   },
   {
    "duration": 7,
    "start_time": "2022-02-12T20:18:10.400Z"
   },
   {
    "duration": 5,
    "start_time": "2022-02-12T20:18:43.831Z"
   },
   {
    "duration": 4,
    "start_time": "2022-02-12T20:18:55.347Z"
   },
   {
    "duration": 5,
    "start_time": "2022-02-12T20:19:20.366Z"
   },
   {
    "duration": 9,
    "start_time": "2022-02-12T20:20:03.858Z"
   },
   {
    "duration": 7,
    "start_time": "2022-02-12T20:20:13.336Z"
   },
   {
    "duration": 6,
    "start_time": "2022-02-12T20:20:28.207Z"
   },
   {
    "duration": 7,
    "start_time": "2022-02-12T20:21:07.073Z"
   },
   {
    "duration": 89,
    "start_time": "2022-02-12T20:21:19.908Z"
   },
   {
    "duration": 95,
    "start_time": "2022-02-12T20:21:25.808Z"
   },
   {
    "duration": 8,
    "start_time": "2022-02-12T20:22:14.308Z"
   },
   {
    "duration": 67,
    "start_time": "2022-02-12T20:22:37.537Z"
   },
   {
    "duration": 10,
    "start_time": "2022-02-12T20:22:42.095Z"
   },
   {
    "duration": 9,
    "start_time": "2022-02-12T20:22:47.255Z"
   },
   {
    "duration": 19,
    "start_time": "2022-02-12T20:22:58.079Z"
   },
   {
    "duration": 83,
    "start_time": "2022-02-12T20:26:17.777Z"
   },
   {
    "duration": 1181,
    "start_time": "2022-02-12T20:26:47.171Z"
   },
   {
    "duration": 6610,
    "start_time": "2022-02-12T20:27:17.128Z"
   },
   {
    "duration": 20,
    "start_time": "2022-02-12T20:27:39.407Z"
   },
   {
    "duration": 6,
    "start_time": "2022-02-12T20:31:12.672Z"
   },
   {
    "duration": 299,
    "start_time": "2022-02-12T20:34:08.634Z"
   },
   {
    "duration": 4,
    "start_time": "2022-02-12T20:36:15.905Z"
   },
   {
    "duration": 4,
    "start_time": "2022-02-12T20:41:09.845Z"
   },
   {
    "duration": 272,
    "start_time": "2022-02-12T20:41:14.009Z"
   },
   {
    "duration": 267,
    "start_time": "2022-02-12T20:41:56.102Z"
   },
   {
    "duration": 13,
    "start_time": "2022-02-12T20:41:59.539Z"
   },
   {
    "duration": 80,
    "start_time": "2022-02-12T20:42:51.459Z"
   },
   {
    "duration": 94,
    "start_time": "2022-02-12T20:43:07.545Z"
   },
   {
    "duration": 298,
    "start_time": "2022-02-12T20:43:17.519Z"
   },
   {
    "duration": 264,
    "start_time": "2022-02-12T20:46:13.122Z"
   },
   {
    "duration": 70,
    "start_time": "2022-02-12T20:47:13.021Z"
   },
   {
    "duration": 9,
    "start_time": "2022-02-12T20:47:13.093Z"
   },
   {
    "duration": 31,
    "start_time": "2022-02-12T20:47:13.104Z"
   },
   {
    "duration": 11,
    "start_time": "2022-02-12T20:47:13.137Z"
   },
   {
    "duration": 5,
    "start_time": "2022-02-12T20:47:13.149Z"
   },
   {
    "duration": 14,
    "start_time": "2022-02-12T20:47:13.155Z"
   },
   {
    "duration": 11,
    "start_time": "2022-02-12T20:47:13.171Z"
   },
   {
    "duration": 22,
    "start_time": "2022-02-12T20:47:13.184Z"
   },
   {
    "duration": 21,
    "start_time": "2022-02-12T20:47:13.207Z"
   },
   {
    "duration": 97,
    "start_time": "2022-02-12T20:47:13.229Z"
   },
   {
    "duration": 67,
    "start_time": "2022-02-12T20:47:42.134Z"
   },
   {
    "duration": 10,
    "start_time": "2022-02-12T20:47:42.203Z"
   },
   {
    "duration": 24,
    "start_time": "2022-02-12T20:47:42.215Z"
   },
   {
    "duration": 13,
    "start_time": "2022-02-12T20:47:42.241Z"
   },
   {
    "duration": 4,
    "start_time": "2022-02-12T20:47:42.256Z"
   },
   {
    "duration": 13,
    "start_time": "2022-02-12T20:47:42.261Z"
   },
   {
    "duration": 10,
    "start_time": "2022-02-12T20:47:42.276Z"
   },
   {
    "duration": 53,
    "start_time": "2022-02-12T20:47:42.287Z"
   },
   {
    "duration": 10,
    "start_time": "2022-02-12T20:47:42.341Z"
   },
   {
    "duration": 102,
    "start_time": "2022-02-12T20:47:42.352Z"
   },
   {
    "duration": 76,
    "start_time": "2022-02-12T20:49:17.697Z"
   },
   {
    "duration": 10,
    "start_time": "2022-02-12T20:49:22.035Z"
   },
   {
    "duration": 21,
    "start_time": "2022-02-12T20:49:25.943Z"
   },
   {
    "duration": 78,
    "start_time": "2022-02-12T20:49:37.736Z"
   },
   {
    "duration": 10,
    "start_time": "2022-02-12T20:49:43.456Z"
   },
   {
    "duration": 20,
    "start_time": "2022-02-12T20:49:47.844Z"
   },
   {
    "duration": 13,
    "start_time": "2022-02-12T20:49:51.688Z"
   },
   {
    "duration": 4,
    "start_time": "2022-02-12T20:49:56.272Z"
   },
   {
    "duration": 546,
    "start_time": "2022-02-13T12:22:56.141Z"
   },
   {
    "duration": 713,
    "start_time": "2022-02-13T12:24:14.488Z"
   },
   {
    "duration": 8,
    "start_time": "2022-02-13T12:24:15.203Z"
   },
   {
    "duration": 23,
    "start_time": "2022-02-13T12:24:15.213Z"
   },
   {
    "duration": 13,
    "start_time": "2022-02-13T12:24:15.238Z"
   },
   {
    "duration": 3,
    "start_time": "2022-02-13T12:24:15.252Z"
   },
   {
    "duration": 12,
    "start_time": "2022-02-13T12:24:15.257Z"
   },
   {
    "duration": 9,
    "start_time": "2022-02-13T12:24:15.271Z"
   },
   {
    "duration": 48,
    "start_time": "2022-02-13T12:24:15.282Z"
   },
   {
    "duration": 9,
    "start_time": "2022-02-13T12:24:15.333Z"
   },
   {
    "duration": 7,
    "start_time": "2022-02-13T12:24:15.344Z"
   },
   {
    "duration": 22,
    "start_time": "2022-02-13T12:24:27.776Z"
   },
   {
    "duration": 22,
    "start_time": "2022-02-13T12:24:58.133Z"
   },
   {
    "duration": 24,
    "start_time": "2022-02-13T12:25:18.113Z"
   },
   {
    "duration": 7,
    "start_time": "2022-02-13T12:27:18.883Z"
   },
   {
    "duration": 25,
    "start_time": "2022-02-13T12:42:17.918Z"
   },
   {
    "duration": 25,
    "start_time": "2022-02-13T12:42:54.260Z"
   },
   {
    "duration": 7,
    "start_time": "2022-02-13T12:50:02.362Z"
   },
   {
    "duration": 18892,
    "start_time": "2022-02-13T13:05:51.812Z"
   },
   {
    "duration": 7,
    "start_time": "2022-02-13T13:06:53.347Z"
   },
   {
    "duration": 96,
    "start_time": "2022-02-13T13:11:21.670Z"
   },
   {
    "duration": 7,
    "start_time": "2022-02-13T13:11:55.231Z"
   },
   {
    "duration": 23,
    "start_time": "2022-02-13T13:18:55.019Z"
   },
   {
    "duration": 34,
    "start_time": "2022-02-13T13:24:21.063Z"
   },
   {
    "duration": 34,
    "start_time": "2022-02-13T13:26:47.761Z"
   },
   {
    "duration": 4,
    "start_time": "2022-02-13T13:43:08.456Z"
   },
   {
    "duration": 16,
    "start_time": "2022-02-13T13:46:58.742Z"
   },
   {
    "duration": 14,
    "start_time": "2022-02-13T13:47:05.052Z"
   },
   {
    "duration": 28,
    "start_time": "2022-02-13T13:47:12.315Z"
   },
   {
    "duration": 75,
    "start_time": "2022-02-13T13:47:55.300Z"
   },
   {
    "duration": 8,
    "start_time": "2022-02-13T13:47:55.377Z"
   },
   {
    "duration": 23,
    "start_time": "2022-02-13T13:47:55.387Z"
   },
   {
    "duration": 23,
    "start_time": "2022-02-13T13:47:55.412Z"
   },
   {
    "duration": 32,
    "start_time": "2022-02-13T13:47:55.437Z"
   },
   {
    "duration": 11,
    "start_time": "2022-02-13T13:47:55.471Z"
   },
   {
    "duration": 10,
    "start_time": "2022-02-13T13:47:55.483Z"
   },
   {
    "duration": 34,
    "start_time": "2022-02-13T13:47:55.494Z"
   },
   {
    "duration": 9,
    "start_time": "2022-02-13T13:47:55.530Z"
   },
   {
    "duration": 30,
    "start_time": "2022-02-13T13:47:55.540Z"
   },
   {
    "duration": 7,
    "start_time": "2022-02-13T13:47:55.571Z"
   },
   {
    "duration": 29,
    "start_time": "2022-02-13T13:48:42.157Z"
   },
   {
    "duration": 30,
    "start_time": "2022-02-13T13:48:54.275Z"
   },
   {
    "duration": 30,
    "start_time": "2022-02-13T13:49:31.971Z"
   },
   {
    "duration": 43,
    "start_time": "2022-02-13T13:56:41.953Z"
   },
   {
    "duration": 19,
    "start_time": "2022-02-13T14:07:21.488Z"
   },
   {
    "duration": 1504,
    "start_time": "2022-02-13T14:07:48.856Z"
   },
   {
    "duration": 1349,
    "start_time": "2022-02-13T14:08:42.073Z"
   },
   {
    "duration": 28,
    "start_time": "2022-02-13T14:09:43.848Z"
   },
   {
    "duration": 24,
    "start_time": "2022-02-13T14:10:14.855Z"
   },
   {
    "duration": 329,
    "start_time": "2022-02-13T14:10:38.650Z"
   },
   {
    "duration": 365,
    "start_time": "2022-02-13T14:11:36.435Z"
   },
   {
    "duration": 354,
    "start_time": "2022-02-13T14:11:49.095Z"
   },
   {
    "duration": 10,
    "start_time": "2022-02-13T14:12:10.109Z"
   },
   {
    "duration": 265,
    "start_time": "2022-02-13T14:12:35.082Z"
   },
   {
    "duration": 10,
    "start_time": "2022-02-13T14:12:42.076Z"
   },
   {
    "duration": 9,
    "start_time": "2022-02-13T14:13:08.244Z"
   },
   {
    "duration": 3,
    "start_time": "2022-02-13T14:14:51.096Z"
   },
   {
    "duration": 13,
    "start_time": "2022-02-13T14:17:29.165Z"
   },
   {
    "duration": 9,
    "start_time": "2022-02-13T14:19:51.682Z"
   },
   {
    "duration": 8,
    "start_time": "2022-02-13T14:20:27.880Z"
   },
   {
    "duration": 44,
    "start_time": "2022-02-13T14:22:28.916Z"
   },
   {
    "duration": 9,
    "start_time": "2022-02-13T14:22:35.182Z"
   },
   {
    "duration": 77,
    "start_time": "2022-02-13T14:22:40.796Z"
   },
   {
    "duration": 9,
    "start_time": "2022-02-13T14:22:40.875Z"
   },
   {
    "duration": 18,
    "start_time": "2022-02-13T14:22:40.887Z"
   },
   {
    "duration": 30,
    "start_time": "2022-02-13T14:22:40.907Z"
   },
   {
    "duration": 34,
    "start_time": "2022-02-13T14:22:40.938Z"
   },
   {
    "duration": 10,
    "start_time": "2022-02-13T14:22:40.973Z"
   },
   {
    "duration": 9,
    "start_time": "2022-02-13T14:22:40.984Z"
   },
   {
    "duration": 40,
    "start_time": "2022-02-13T14:22:40.995Z"
   },
   {
    "duration": 9,
    "start_time": "2022-02-13T14:22:41.037Z"
   },
   {
    "duration": 26,
    "start_time": "2022-02-13T14:22:41.048Z"
   },
   {
    "duration": 22,
    "start_time": "2022-02-13T14:22:41.076Z"
   },
   {
    "duration": 35,
    "start_time": "2022-02-13T14:22:41.100Z"
   },
   {
    "duration": 8,
    "start_time": "2022-02-13T14:22:41.136Z"
   },
   {
    "duration": 7,
    "start_time": "2022-02-13T14:22:41.145Z"
   },
   {
    "duration": 386,
    "start_time": "2022-02-13T14:22:41.154Z"
   },
   {
    "duration": 35,
    "start_time": "2022-02-13T14:23:22.884Z"
   },
   {
    "duration": 24,
    "start_time": "2022-02-13T14:23:26.540Z"
   },
   {
    "duration": 12,
    "start_time": "2022-02-13T14:23:29.995Z"
   },
   {
    "duration": 9,
    "start_time": "2022-02-13T14:23:33.073Z"
   },
   {
    "duration": 9,
    "start_time": "2022-02-13T14:23:40.236Z"
   },
   {
    "duration": 9,
    "start_time": "2022-02-13T14:26:16.992Z"
   },
   {
    "duration": 1069,
    "start_time": "2022-06-04T10:55:27.196Z"
   },
   {
    "duration": 13,
    "start_time": "2022-06-04T10:55:28.267Z"
   },
   {
    "duration": 20,
    "start_time": "2022-06-04T10:55:28.281Z"
   },
   {
    "duration": 37,
    "start_time": "2022-06-04T10:55:28.302Z"
   },
   {
    "duration": 38,
    "start_time": "2022-06-04T10:55:28.341Z"
   },
   {
    "duration": 4,
    "start_time": "2022-06-04T10:55:28.381Z"
   },
   {
    "duration": 25,
    "start_time": "2022-06-04T10:55:28.387Z"
   },
   {
    "duration": 20,
    "start_time": "2022-06-04T10:55:28.429Z"
   },
   {
    "duration": 23,
    "start_time": "2022-06-04T10:55:28.451Z"
   },
   {
    "duration": 10,
    "start_time": "2022-06-04T10:55:28.476Z"
   },
   {
    "duration": 53,
    "start_time": "2022-06-04T10:55:28.488Z"
   },
   {
    "duration": 32,
    "start_time": "2022-06-04T10:55:28.543Z"
   },
   {
    "duration": 10,
    "start_time": "2022-06-04T10:55:28.577Z"
   },
   {
    "duration": 12,
    "start_time": "2022-06-04T10:55:28.589Z"
   },
   {
    "duration": 28,
    "start_time": "2022-06-04T10:55:28.602Z"
   },
   {
    "duration": 12,
    "start_time": "2022-06-04T10:55:28.631Z"
   }
  ],
  "kernelspec": {
   "display_name": "Python 3 (ipykernel)",
   "language": "python",
   "name": "python3"
  },
  "language_info": {
   "codemirror_mode": {
    "name": "ipython",
    "version": 3
   },
   "file_extension": ".py",
   "mimetype": "text/x-python",
   "name": "python",
   "nbconvert_exporter": "python",
   "pygments_lexer": "ipython3",
   "version": "3.9.7"
  },
  "toc": {
   "base_numbering": 1,
   "nav_menu": {},
   "number_sections": true,
   "sideBar": true,
   "skip_h1_title": true,
   "title_cell": "Table of Contents",
   "title_sidebar": "Contents",
   "toc_cell": false,
   "toc_position": {},
   "toc_section_display": true,
   "toc_window_display": true
  }
 },
 "nbformat": 4,
 "nbformat_minor": 5
}
